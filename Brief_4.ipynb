{
 "cells": [
  {
   "cell_type": "markdown",
   "metadata": {},
   "source": [
    "I ) Créer une base de données que vous appelerez : CountriesDatas II"
   ]
  },
  {
   "cell_type": "code",
   "execution_count": 8,
   "metadata": {},
   "outputs": [
    {
     "data": {
      "text/html": [
       "<img src= 'création table.png'</img>"
      ],
      "text/plain": [
       "<IPython.core.display.HTML object>"
      ]
     },
     "execution_count": 8,
     "metadata": {},
     "output_type": "execute_result"
    }
   ],
   "source": [
    "from IPython.core.display import HTML #module permettant d'integrer du html dans python\n",
    "HTML(\"<img src= 'création table.png'</img>\")"
   ]
  },
  {
   "cell_type": "markdown",
   "metadata": {},
   "source": [
    "II) Peupler la table à l'aide des fichiers"
   ]
  },
  {
   "cell_type": "markdown",
   "metadata": {},
   "source": [
    "IMPORTER LES MODULES NECESSAIRES"
   ]
  },
  {
   "cell_type": "code",
   "execution_count": 2,
   "metadata": {},
   "outputs": [],
   "source": [
    "import mysql.connector as mysql\n",
    "from mysql.connector import Error\n",
    "import time"
   ]
  },
  {
   "cell_type": "markdown",
   "metadata": {},
   "source": [
    "connection à la bdd de phpmyadmin"
   ]
  },
  {
   "cell_type": "code",
   "execution_count": 38,
   "metadata": {},
   "outputs": [],
   "source": [
    "user = 'root'\n",
    "password = 'example'\n",
    "host = 'localhost'\n",
    "port = '3307'\n",
    "database = 'CountryDatas II'\n",
    "\n",
    "bdd = mysql.connect(user=user, password=password, host=host, port=port, database=database)\n",
    "cursor = bdd.cursor()"
   ]
  },
  {
   "cell_type": "markdown",
   "metadata": {},
   "source": [
    "OUVERTURE DU FICHiER TXT"
   ]
  },
  {
   "cell_type": "code",
   "execution_count": 4,
   "metadata": {},
   "outputs": [
    {
     "name": "stdout",
     "output_type": "stream",
     "text": [
      "ABW __****__ Aruba\n",
      "AFG __****__ Afghanistan\n",
      "AFRI __****__ Africa\n",
      "AGO __****__ Angola\n",
      "AIA __****__ Anguilla\n",
      "ALB __****__ Albania\n",
      "AND __****__ Andorra\n",
      "ANT __****__ Netherlands Antilles\n",
      "ARE __****__ United Arab Emirates\n",
      "ARG __****__ Argentina\n",
      "ASIA __****__ Asia\n",
      "ASM __****__ American Samoa\n",
      "ATG __****__ Antigua and Barbuda\n",
      "AUS __****__ Australia\n",
      "AUT __****__ Austria\n",
      "BDI __****__ Burundi\n",
      "BEL __****__ Belgium\n",
      "BEN __****__ Benin\n",
      "BFA __****__ Burkina Faso\n",
      "BGD __****__ Bangladesh\n",
      "BGR __****__ Bulgaria\n",
      "BHR __****__ Bahrain\n",
      "BHS __****__ Bahamas\n",
      "BLZ __****__ Belize\n",
      "BMU __****__ Bermuda\n",
      "BOL __****__ Bolivia\n",
      "BRA __****__ Brazil\n",
      "BRB __****__ Barbados\n",
      "BRN __****__ Brunei Darussalam\n",
      "BTN __****__ Bhutan\n",
      "BWA __****__ Botswana\n",
      "CAF __****__ Central African Republic\n",
      "CAN __****__ Canada\n",
      "CCK __****__ Cocos (Keeling) Islands\n",
      "CHE __****__ Switzerland\n",
      "CHL __****__ Chile\n",
      "CHN __****__ China\n",
      "CIV __****__ Côte d'Ivoire\n",
      "CMR __****__ Cameroon\n",
      "COD __****__ Congo, Dem. Rep. Of\n",
      "COG __****__ Congo\n",
      "COK __****__ Cook Islands\n",
      "COL __****__ Colombia\n",
      "COM __****__ Comoros\n",
      "CPV __****__ Cape Verde\n",
      "CRI __****__ Costa Rica\n",
      "CSFR __****__ Former Czechoslovakia\n",
      "CSFR-CZE __****__ Czech Republic\n",
      "CSFR-SVK __****__ Slovak Republic\n",
      "CUB __****__ Cuba\n",
      "CYM __****__ Cayman Islands\n",
      "CYP __****__ Cyprus\n",
      "DEU __****__ Germany\n",
      "DJI __****__ Djibouti\n",
      "DMA __****__ Dominica\n",
      "DNK __****__ Denmark\n",
      "DOM __****__ Dominican Republic\n",
      "DZA __****__ Algeria\n",
      "ECU __****__ Ecuador\n",
      "EGY __****__ Egypt\n",
      "ERI __****__ Eritrea\n",
      "ESH __****__ Western Sahara\n",
      "ESP __****__ Spain\n",
      "ETH __****__ Ethiopia\n",
      "EURO __****__ Europe\n",
      "FIN __****__ Finland\n",
      "FJI __****__ Fiji\n",
      "FLK __****__ Falkland Islands\n",
      "FRA __****__ France\n",
      "FSM __****__ Micronesia, Federated states of\n",
      "FYUG __****__ Former Yugoslavia\n",
      "FYUG-BIH __****__ Bosnia-Herzegovina\n",
      "FYUG-HRV __****__ Croatia\n",
      "FYUG-MKD __****__ Macedonia\n",
      "FYUG-SVN __****__ Slovenia\n",
      "FYUG-YUG __****__ Serbia and Montenegro\n",
      "GAB __****__ Gabon\n",
      "GBR __****__ United Kingdom\n",
      "GHA __****__ Ghana\n",
      "GIB __****__ Gibraltar\n",
      "GIN __****__ Guinea\n",
      "GMB __****__ Gambia\n",
      "GNB __****__ Guinea-Bissau\n",
      "GNQ __****__ Equatorial Guinea\n",
      "GRC __****__ Greece\n",
      "GRD __****__ Grenada\n",
      "GTM __****__ Guatemala\n",
      "GUM __****__ Guam\n",
      "GUY __****__ Guyana\n",
      "HKG __****__ Hong Kong\n",
      "HND __****__ Honduras\n",
      "HTI __****__ Haiti\n",
      "HUN __****__ Hungary\n",
      "IDN __****__ Indonesia\n",
      "IND __****__ India\n",
      "IOT __****__ British Indian Ocean Territory\n",
      "IRL __****__ Ireland\n",
      "IRN __****__ Iran\n",
      "IRQ __****__ Iraq\n",
      "ISL __****__ Iceland\n",
      "ISR __****__ Israel\n",
      "ITA __****__ Italy\n",
      "JAM __****__ Jamaica\n",
      "JOR __****__ Jordan\n",
      "JPN __****__ Japan\n",
      "KEN __****__ Kenya\n",
      "KHM __****__ Cambodia\n",
      "KIR __****__ Kiribati\n",
      "KNA __****__ Saint Kitts and Nevis\n",
      "KOREA-NO __****__ North Korea\n",
      "KOREA-NS __****__ South Korea\n",
      "KOREA-SO __****__ North and South Korea\n",
      "KWT __****__ Kuwait\n",
      "LAO __****__ Laos\n",
      "LBN __****__ Lebanon\n",
      "LBR __****__ Liberia\n",
      "LBY __****__ Libya\n",
      "LCA __****__ Saint Lucia\n",
      "LIE __****__ Liechtenstein\n",
      "LKA __****__ Sri Lanka\n",
      "LSO __****__ Lesotho\n",
      "LUX __****__ Luxembourg\n",
      "MAC __****__ Macau\n",
      "MAR __****__ Morocco\n",
      "MCO __****__ Monaco\n",
      "MDG __****__ Madagascar\n",
      "MDV __****__ Maldives\n",
      "MEX __****__ Mexico\n",
      "MHL __****__ Marshall Islands\n",
      "MLI __****__ Mali\n",
      "MLT __****__ Malta\n",
      "MMR __****__ Myanmar\n",
      "MNG __****__ Mongolia\n",
      "MNP __****__ Northern Mariana Islands\n",
      "MOZ __****__ Mozambique\n",
      "MRT __****__ Mauritania\n",
      "MSR __****__ Montserrat\n",
      "MUS __****__ Mauritius\n",
      "MWI __****__ Malawi\n",
      "MYS __****__ Malaysia\n",
      "NAM __****__ Namibia\n",
      "NER __****__ Niger\n",
      "NFK __****__ Norfolk Islands\n",
      "NGA __****__ Nigeria\n",
      "NIC __****__ Nicaragua\n",
      "NIU __****__ Niue\n",
      "NLD __****__ Netherlands\n",
      "NOAM __****__ North America\n",
      "NOR __****__ Norway\n",
      "NPL __****__ Nepal\n",
      "NRU __****__ Nauru\n",
      "NZL __****__ New Zealand\n",
      "OCEA __****__ Oceania\n",
      "OMN __****__ Oman\n",
      "OTH __****__ Other\n",
      "PAK __****__ Pakistan\n",
      "PAN __****__ Panama\n",
      "PCN __****__ Pitcairn\n",
      "PER __****__ Peru\n",
      "PHL __****__ Philippines\n",
      "PLW __****__ Pacific Islands (Palau)\n",
      "PNG __****__ Papua New Guinea\n",
      "POL __****__ Poland\n",
      "PRI __****__ Puerto Rico\n",
      "PRT __****__ Portugal\n",
      "PRY __****__ Paraguay\n",
      "PSE __****__ Occupied Palestinian Territory\n",
      "QAT __****__ Qatar\n",
      "ROU __****__ Romania\n",
      "RWA __****__ Rwanda\n",
      "SAU __****__ Saudi Arabia\n",
      "SCAC __****__ South and Central America\n",
      "SDN __****__ Sudan\n",
      "SEN __****__ Senegal\n",
      "SGP __****__ Singapore\n",
      "SHN __****__ Saint Helena\n",
      "SJM __****__ Svalbard and Jan Mayen Islands\n",
      "SLB __****__ Solomon Islands\n",
      "SLE __****__ Sierra Leone\n",
      "SLV __****__ El Salvador\n",
      "SMR __****__ San Marino\n",
      "SOM __****__ Somalia\n",
      "STP __****__ Sao Tome and Principe\n",
      "SUR __****__ Suriname\n",
      "SWE __****__ Sweden\n",
      "SWZ __****__ Swaziland\n",
      "SYC __****__ Seychelles\n",
      "SYR __****__ Syria\n",
      "TCA __****__ Turks and Caicos Islands\n",
      "TCD __****__ Chad\n",
      "TGO __****__ Togo\n",
      "THA __****__ Thailand\n",
      "TKL __****__ Tokelau\n",
      "TLS __****__ Timor-Leste\n",
      "TMP __****__ East Timor\n",
      "TON __****__ Tonga\n",
      "TTO __****__ Trinidad and Tobago\n",
      "TUN __****__ Tunisia\n",
      "TUR __****__ Turkey\n",
      "TUV __****__ Tuvalu\n",
      "TWN __****__ Chinese Taipei\n",
      "TZA __****__ United Republic of Tanzania\n",
      "URY __****__ Uruguay\n",
      "USA __****__ United States\n",
      "USSR __****__ Former USSR\n",
      "USSR-ARM __****__ Armenia\n",
      "USSR-AZE __****__ Azerbaidjan\n",
      "USSR-BLR __****__ Belarus\n",
      "USSR-EST __****__ Estonia\n",
      "USSR-GEO __****__ Georgia\n",
      "USSR-KAZ __****__ Kazakhstan\n",
      "USSR-KGZ __****__ Kirghizistan\n",
      "USSR-LTU __****__ Lithuania\n",
      "USSR-LVA __****__ Latvia\n",
      "USSR-MDA __****__ Moldova\n",
      "USSR-RUS __****__ Russia\n",
      "USSR-TJK __****__ Tadjikistan\n",
      "USSR-TKM __****__ Turkménistan\n",
      "USSR-UKR __****__ Ukraine\n",
      "USSR-UZB __****__ Uzbekistan\n",
      "VAT __****__ Holy See\n",
      "VCT __****__ Saint Vincent and the Grenadines\n",
      "VEN __****__ Venezuela\n",
      "VGB __****__ British Virgin Islands\n",
      "VIR __****__ United States Virgin Islands\n",
      "VNM __****__ Vietnam\n",
      "VUT __****__ Vanuatu\n",
      "WSM __****__ Samoa\n",
      "YEM __****__ Yemen\n",
      "ZAF __****__ South Africa\n",
      "ZMB __****__ Zambia\n",
      "ZWE __****__ Zimbabwe\n",
      "\n"
     ]
    }
   ],
   "source": [
    "data= open(\"country.txt\", \"r\")\n",
    "print(data.read())"
   ]
  },
  {
   "cell_type": "markdown",
   "metadata": {},
   "source": [
    "CONVERSION DU FICHIER TEXTE AFIN DE RENTRE LA LECTURE FACILE"
   ]
  },
  {
   "cell_type": "code",
   "execution_count": 5,
   "metadata": {},
   "outputs": [],
   "source": [
    "with open('country.txt', 'r') as f: #ouverture du fichier txt as f\n",
    "    tableau= f.readlines() #variable permettant de créer une boucle, on lit chaque lignes du fichier txt\n",
    "    marre = [] # variable contenant un tableau vide permettant de stocker les valeurs de notre boucle\n",
    "    for line in tableau: #pour chaque ligne dans le tableau\n",
    "        line = line.replace(' __****__','') #ligne est égale à ligne en remplacant les valeurs __****__ par des espace permettant une meilleur lecture du fichier\n",
    "        marre.append(line) #le tableau marre apprends les nouvelles lignes"
   ]
  },
  {
   "cell_type": "code",
   "execution_count": 6,
   "metadata": {},
   "outputs": [],
   "source": [
    "countries = {} #dictionnaire permettant de stocker les variables des 2 colonnes\n",
    "for i in marre: #pour chaque element dans le tableau marre\n",
    "    code = i.strip('\\n').split()[0] # code est egale a l'element de l'index 0 (1er colonnes) jusqu'a observer un espace il passe ensuite a la seconde ligne\n",
    "    capital = i.strip().split(\" \",1)[1] #capital est egale a l'element de la 2eme colonnes  (le split(\" \",1) permets de se repérer a partir du premier espace et de conserver ceux d'apres ca permets de garder les capitla avec des noms composé) \n",
    "    countries[code] = capital"
   ]
  },
  {
   "cell_type": "code",
   "execution_count": 7,
   "metadata": {},
   "outputs": [],
   "source": [
    "for code, name in countries.items(): #boucle permettant d'inserer les valeurs une par une\n",
    "    #requete pour insérer les valeurs souhaitant dans les tables php\n",
    "    query = f\"\"\" INSERT INTO countries(code, name) values(\"{code}\", \"{name}\") \n",
    "    on duplicate key update name = \"{name}\";\"\"\" #empeche d'inserer les valeurs déjà presente et permets la requete\n",
    "    cursor.execute(query)\n",
    "    bdd.commit()"
   ]
  },
  {
   "cell_type": "code",
   "execution_count": null,
   "metadata": {},
   "outputs": [],
   "source": [
    "# mémo\n",
    "# on duplicate key update code = '{code}'\n",
    "# f\"\"\"select {code} in ('codes')"
   ]
  },
  {
   "cell_type": "markdown",
   "metadata": {},
   "source": [
    "IMPORTATION DU MODULE POUR LIRE LE FICHIER CSV"
   ]
  },
  {
   "cell_type": "code",
   "execution_count": 8,
   "metadata": {},
   "outputs": [],
   "source": [
    "import pandas as pd"
   ]
  },
  {
   "cell_type": "code",
   "execution_count": 9,
   "metadata": {},
   "outputs": [],
   "source": [
    "data_1 = pd.read_csv('Brief_4.csv') #lecture du fichier csv"
   ]
  },
  {
   "cell_type": "markdown",
   "metadata": {},
   "source": [
    "CONVERSION DE LA COLONNE TIME DU FICHIER CSV"
   ]
  },
  {
   "cell_type": "code",
   "execution_count": 10,
   "metadata": {},
   "outputs": [],
   "source": [
    "# année = []\n",
    "# for i in range(data_1['TIME'].shape[0]):\n",
    "#     yui = str(data_1['TIME'][i]) +'-01-01'\n",
    "#     année.append(yui)\n",
    "#test raté car il m'empeche de faire une requete correcte par la suite"
   ]
  },
  {
   "cell_type": "code",
   "execution_count": 11,
   "metadata": {},
   "outputs": [],
   "source": [
    "for i in range(data_1.shape[0]):\n",
    "    x = str(data_1['TIME'][i]) + \"-01-01\"\n",
    "    data_1.loc[[i],['TIME']] = x\n",
    "#permets de modifier la colonne time du fichier csv en permettant par la suite une requete executable"
   ]
  },
  {
   "cell_type": "markdown",
   "metadata": {},
   "source": [
    "REQUETE DU PEUPLEMENT DE LA BDD COUNTRIES DATA II"
   ]
  },
  {
   "cell_type": "code",
   "execution_count": null,
   "metadata": {},
   "outputs": [],
   "source": [
    "for i in range(len(data_1)):\n",
    "        id = i + 1\n",
    "        location = data_1['LOCATION'][i]\n",
    "        value = data_1['Value'][i]\n",
    "        year = data_1['TIME'][i]\n",
    "        query= f\"\"\"INSERT INTO populations(id, LOCATION, TIME, Value) VALUES (\"{id}\",\"{location}\", \"{year}\", \"{value}\")\n",
    "        on duplicate key update id = {id};\"\"\"\n",
    "        cursor.execute(query)\n",
    "        bdd.commit()"
   ]
  },
  {
   "cell_type": "markdown",
   "metadata": {},
   "source": [
    "REQUETE PERMETTANT DE REMPLACER LA COLONNE D'UNE TABLE PAR UNE AUTRE TABLE"
   ]
  },
  {
   "cell_type": "code",
   "execution_count": 1,
   "metadata": {},
   "outputs": [],
   "source": [
    "# SELECT `id`, countries.name, `TIME`, `Value` FROM `populations` INNER JOIN countries ON countries.code = populations.location\n",
    "# Cette requete a était faites depuis phpmyadmin"
   ]
  },
  {
   "cell_type": "code",
   "execution_count": 9,
   "metadata": {},
   "outputs": [
    {
     "data": {
      "text/html": [
       "<img src= 'INNER JOIN.png'</img>"
      ],
      "text/plain": [
       "<IPython.core.display.HTML object>"
      ]
     },
     "execution_count": 9,
     "metadata": {},
     "output_type": "execute_result"
    }
   ],
   "source": [
    "HTML(\"<img src= 'INNER JOIN.png'</img>\")"
   ]
  }
 ],
 "metadata": {
  "kernelspec": {
   "display_name": "Python 3.8.10 ('.venv': venv)",
   "language": "python",
   "name": "python3"
  },
  "language_info": {
   "codemirror_mode": {
    "name": "ipython",
    "version": 3
   },
   "file_extension": ".py",
   "mimetype": "text/x-python",
   "name": "python",
   "nbconvert_exporter": "python",
   "pygments_lexer": "ipython3",
   "version": "3.8.10"
  },
  "orig_nbformat": 4,
  "vscode": {
   "interpreter": {
    "hash": "07b05331f4955ee79476f87bde87ac715a02b42253035297d4ec317e0e12d5fb"
   }
  }
 },
 "nbformat": 4,
 "nbformat_minor": 2
}
